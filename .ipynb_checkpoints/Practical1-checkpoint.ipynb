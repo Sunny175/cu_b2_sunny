{
 "cells": [
  {
   "cell_type": "markdown",
   "id": "e35c9b68",
   "metadata": {},
   "source": [
    "# 1. Addition"
   ]
  },
  {
   "cell_type": "code",
   "execution_count": 3,
   "id": "e380f106",
   "metadata": {},
   "outputs": [
    {
     "name": "stdout",
     "output_type": "stream",
     "text": [
      "Enter the value of number 1: 4\n",
      "Enter the value of number 2: 5\n",
      "The value of Addition is :- 9\n"
     ]
    }
   ],
   "source": [
    "number1 = int(input(\"Enter the value of number 1: \"))\n",
    "number2 = int(input(\"Enter the value of number 2: \"))\n",
    "add = number1 + number2\n",
    "print(\"The value of Addition is :- \"+str(add))"
   ]
  },
  {
   "cell_type": "code",
   "execution_count": 3,
   "id": "48f67b05",
   "metadata": {},
   "outputs": [
    {
     "data": {
      "text/plain": [
       "2"
      ]
     },
     "execution_count": 3,
     "metadata": {},
     "output_type": "execute_result"
    }
   ],
   "source": [
    "--1+1"
   ]
  },
  {
   "cell_type": "markdown",
   "id": "169860c7",
   "metadata": {},
   "source": [
    "# 2. Subtraction"
   ]
  },
  {
   "cell_type": "code",
   "execution_count": 4,
   "id": "43bead3f",
   "metadata": {},
   "outputs": [
    {
     "name": "stdout",
     "output_type": "stream",
     "text": [
      "Enter the value of number 1: 5.0\n",
      "Enter the value of number 2: 4.5\n",
      "The value of Subtraction is :- 0.5\n"
     ]
    }
   ],
   "source": [
    "number1 = float(input(\"Enter the value of number 1: \"))\n",
    "number2 = float(input(\"Enter the value of number 2: \"))\n",
    "sub = number1 - number2\n",
    "print(\"The value of Subtraction is :- \"+str(sub))"
   ]
  },
  {
   "cell_type": "markdown",
   "id": "da41356b",
   "metadata": {},
   "source": [
    "# 3. Multiplication"
   ]
  },
  {
   "cell_type": "code",
   "execution_count": 8,
   "id": "48c2670d",
   "metadata": {},
   "outputs": [
    {
     "name": "stdout",
     "output_type": "stream",
     "text": [
      "Enter the value of number 1: 4\n",
      "Enter the value of number 2: 5\n",
      "The value of Multiplication is :- 20\n"
     ]
    }
   ],
   "source": [
    "number1 = int(input(\"Enter the value of number 1: \"))\n",
    "number2 = int(input(\"Enter the value of number 2: \"))\n",
    "multi = number1 * number2\n",
    "print(\"The value of Multiplication is :- \"+str(multi))"
   ]
  },
  {
   "cell_type": "markdown",
   "id": "7296b719",
   "metadata": {},
   "source": [
    "# 4. Division"
   ]
  },
  {
   "cell_type": "code",
   "execution_count": 5,
   "id": "34308f2a",
   "metadata": {},
   "outputs": [
    {
     "name": "stdout",
     "output_type": "stream",
     "text": [
      "Enter the value of number 1: 8\n",
      "Enter the value of number 2: 4\n",
      "The value of Division is :- 2.0\n"
     ]
    }
   ],
   "source": [
    "number1 = float(input(\"Enter the value of number 1: \"))\n",
    "number2 = float(input(\"Enter the value of number 2: \"))\n",
    "div = number1 / number2\n",
    "print(\"The value of Division is :- \"+str(div))"
   ]
  },
  {
   "cell_type": "markdown",
   "id": "2e664396",
   "metadata": {},
   "source": [
    "# 5. Power"
   ]
  },
  {
   "cell_type": "code",
   "execution_count": 10,
   "id": "fb84b5a6",
   "metadata": {},
   "outputs": [
    {
     "name": "stdout",
     "output_type": "stream",
     "text": [
      "Enter the value of number 1: 4\n",
      "Enter the value of number 2: 5\n",
      "The power of 4 is :- 1024\n"
     ]
    }
   ],
   "source": [
    "number1 = int(input(\"Enter the value of number 1: \"))\n",
    "number2 = int(input(\"Enter the value of number 2: \"))\n",
    "power = number1 ** number2\n",
    "print(f\"The power of {str(number1)} is :- {str(power)}\")"
   ]
  },
  {
   "cell_type": "markdown",
   "id": "0ac9c346",
   "metadata": {},
   "source": [
    "# 6. Combination"
   ]
  },
  {
   "cell_type": "code",
   "execution_count": 11,
   "id": "122d564e",
   "metadata": {},
   "outputs": [
    {
     "data": {
      "text/plain": [
       "12.0"
      ]
     },
     "execution_count": 11,
     "metadata": {},
     "output_type": "execute_result"
    }
   ],
   "source": [
    "5+9*7/3**2"
   ]
  }
 ],
 "metadata": {
  "kernelspec": {
   "display_name": "Python 3 (ipykernel)",
   "language": "python",
   "name": "python3"
  },
  "language_info": {
   "codemirror_mode": {
    "name": "ipython",
    "version": 3
   },
   "file_extension": ".py",
   "mimetype": "text/x-python",
   "name": "python",
   "nbconvert_exporter": "python",
   "pygments_lexer": "ipython3",
   "version": "3.9.13"
  }
 },
 "nbformat": 4,
 "nbformat_minor": 5
}
