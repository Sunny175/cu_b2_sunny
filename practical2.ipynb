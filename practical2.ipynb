{
 "cells": [
  {
   "cell_type": "markdown",
   "id": "1d7c64e0",
   "metadata": {},
   "source": [
    "# Demonstrate about the Numpy library"
   ]
  },
  {
   "cell_type": "markdown",
   "id": "f6600f6f",
   "metadata": {},
   "source": [
    "## To install numpy library run following command"
   ]
  },
  {
   "cell_type": "code",
   "execution_count": 1,
   "id": "19920242",
   "metadata": {},
   "outputs": [
    {
     "name": "stdout",
     "output_type": "stream",
     "text": [
      "Requirement already satisfied: numpy in c:\\users\\sunny\\anaconda3\\lib\\site-packages (1.21.5)\n"
     ]
    }
   ],
   "source": [
    "!pip install numpy"
   ]
  },
  {
   "cell_type": "markdown",
   "id": "c186e42c",
   "metadata": {},
   "source": [
    "# Numpy Demo"
   ]
  },
  {
   "cell_type": "code",
   "execution_count": 2,
   "id": "4d6e9426",
   "metadata": {},
   "outputs": [],
   "source": [
    "import numpy as np  "
   ]
  },
  {
   "cell_type": "code",
   "execution_count": 3,
   "id": "23f41c6b",
   "metadata": {},
   "outputs": [
    {
     "data": {
      "text/plain": [
       "array([[1, 2, 3, 4],\n",
       "       [4, 3, 5, 9]])"
      ]
     },
     "execution_count": 3,
     "metadata": {},
     "output_type": "execute_result"
    }
   ],
   "source": [
    "array = np.array([[1, 2, 3, 4], [4, 3, 5, 9]])\n",
    "array"
   ]
  },
  {
   "cell_type": "code",
   "execution_count": 5,
   "id": "b26ce78b",
   "metadata": {},
   "outputs": [
    {
     "name": "stdout",
     "output_type": "stream",
     "text": [
      "2\n"
     ]
    }
   ],
   "source": [
    "print(array.ndim)"
   ]
  },
  {
   "cell_type": "code",
   "execution_count": 6,
   "id": "ff4d417b",
   "metadata": {},
   "outputs": [
    {
     "data": {
      "text/plain": [
       "array([2, 5, 3, 8])"
      ]
     },
     "execution_count": 6,
     "metadata": {},
     "output_type": "execute_result"
    }
   ],
   "source": [
    "arrary1 = np.array([2, 5, 3, 8])\n",
    "arrary1"
   ]
  },
  {
   "cell_type": "code",
   "execution_count": 7,
   "id": "bb61fd45",
   "metadata": {},
   "outputs": [
    {
     "name": "stdout",
     "output_type": "stream",
     "text": [
      "1\n"
     ]
    }
   ],
   "source": [
    "print(arrary1.ndim)"
   ]
  },
  {
   "cell_type": "code",
   "execution_count": 8,
   "id": "66dc4a77",
   "metadata": {},
   "outputs": [
    {
     "name": "stdout",
     "output_type": "stream",
     "text": [
      "(2, 4)\n"
     ]
    }
   ],
   "source": [
    "print(array.shape)"
   ]
  },
  {
   "cell_type": "code",
   "execution_count": 9,
   "id": "7a4dfd75",
   "metadata": {},
   "outputs": [
    {
     "name": "stdout",
     "output_type": "stream",
     "text": [
      "(4,)\n"
     ]
    }
   ],
   "source": [
    "print(arrary1.shape)"
   ]
  },
  {
   "cell_type": "code",
   "execution_count": 11,
   "id": "cfa584ce",
   "metadata": {},
   "outputs": [
    {
     "name": "stdout",
     "output_type": "stream",
     "text": [
      "<class 'numpy.ndarray'>\n"
     ]
    }
   ],
   "source": [
    "print(type(array))"
   ]
  },
  {
   "cell_type": "code",
   "execution_count": 12,
   "id": "07a0d5be",
   "metadata": {},
   "outputs": [
    {
     "name": "stdout",
     "output_type": "stream",
     "text": [
      "<memory at 0x000001C4E527CF40>\n"
     ]
    }
   ],
   "source": [
    "print(arrary1.data)"
   ]
  },
  {
   "cell_type": "code",
   "execution_count": 13,
   "id": "9a1f56e3",
   "metadata": {},
   "outputs": [
    {
     "name": "stdout",
     "output_type": "stream",
     "text": [
      "<memory at 0x000001C4E52251E0>\n"
     ]
    }
   ],
   "source": [
    "print(array.data)"
   ]
  },
  {
   "cell_type": "markdown",
   "id": "35686393",
   "metadata": {},
   "source": [
    "# To generate random number using numpy"
   ]
  },
  {
   "cell_type": "code",
   "execution_count": 14,
   "id": "78ed2f12",
   "metadata": {},
   "outputs": [],
   "source": [
    "from numpy import random"
   ]
  },
  {
   "cell_type": "code",
   "execution_count": 32,
   "id": "30818876",
   "metadata": {},
   "outputs": [
    {
     "data": {
      "text/plain": [
       "478"
      ]
     },
     "execution_count": 32,
     "metadata": {},
     "output_type": "execute_result"
    }
   ],
   "source": [
    "random_number = random.randint(1000)\n",
    "random_number"
   ]
  },
  {
   "cell_type": "code",
   "execution_count": 47,
   "id": "9e613d31",
   "metadata": {},
   "outputs": [
    {
     "data": {
      "text/plain": [
       "array([81, 17, 21, 57, 61, 81, 92, 11, 45, 81, 39, 78, 96, 18, 65, 79, 59,\n",
       "       75, 19, 41, 98, 63,  6, 20, 66, 13, 62, 64, 86, 94,  7,  5, 89,  0,\n",
       "       32, 91, 83, 89, 34, 75, 72, 68, 38, 67,  3,  9, 10, 93, 96, 57])"
      ]
     },
     "execution_count": 47,
     "metadata": {},
     "output_type": "execute_result"
    }
   ],
   "source": [
    "random_array = random.randint(100, size=(50))\n",
    "random_array"
   ]
  },
  {
   "cell_type": "code",
   "execution_count": 59,
   "id": "78d7a166",
   "metadata": {},
   "outputs": [
    {
     "data": {
      "text/plain": [
       "0.8978137194155082"
      ]
     },
     "execution_count": 59,
     "metadata": {},
     "output_type": "execute_result"
    }
   ],
   "source": [
    "random_number2 = random.rand()\n",
    "random_number2"
   ]
  },
  {
   "cell_type": "code",
   "execution_count": 60,
   "id": "00ce4a95",
   "metadata": {},
   "outputs": [
    {
     "data": {
      "text/plain": [
       "array([[59,  1, 32, 36, 80],\n",
       "       [60, 78, 55, 81,  6],\n",
       "       [33,  3, 59, 94, 91]])"
      ]
     },
     "execution_count": 60,
     "metadata": {},
     "output_type": "execute_result"
    }
   ],
   "source": [
    "random_array2 = random.randint(100, size=(3, 5))\n",
    "random_array2"
   ]
  },
  {
   "cell_type": "code",
   "execution_count": 61,
   "id": "d215b746",
   "metadata": {},
   "outputs": [
    {
     "name": "stdout",
     "output_type": "stream",
     "text": [
      "(3, 5)\n"
     ]
    }
   ],
   "source": [
    "print(random_array2.shape)"
   ]
  },
  {
   "cell_type": "code",
   "execution_count": 62,
   "id": "69adcf8d",
   "metadata": {},
   "outputs": [
    {
     "data": {
      "text/plain": [
       "numpy.ndarray"
      ]
     },
     "execution_count": 62,
     "metadata": {},
     "output_type": "execute_result"
    }
   ],
   "source": [
    "type(random_array2)"
   ]
  },
  {
   "cell_type": "markdown",
   "id": "84774beb",
   "metadata": {},
   "source": [
    "# Matrix in numpy"
   ]
  },
  {
   "cell_type": "code",
   "execution_count": 63,
   "id": "1de43033",
   "metadata": {},
   "outputs": [
    {
     "data": {
      "text/plain": [
       "matrix([[1, 2],\n",
       "        [3, 4]])"
      ]
     },
     "execution_count": 63,
     "metadata": {},
     "output_type": "execute_result"
    }
   ],
   "source": [
    "matrix1 = np.matrix('1,2; 3, 4')\n",
    "matrix1"
   ]
  },
  {
   "cell_type": "code",
   "execution_count": 65,
   "id": "95402611",
   "metadata": {},
   "outputs": [
    {
     "data": {
      "text/plain": [
       "numpy.matrix"
      ]
     },
     "execution_count": 65,
     "metadata": {},
     "output_type": "execute_result"
    }
   ],
   "source": [
    "type(matrix1)"
   ]
  },
  {
   "cell_type": "code",
   "execution_count": 66,
   "id": "65a9e6b5",
   "metadata": {},
   "outputs": [
    {
     "name": "stderr",
     "output_type": "stream",
     "text": [
      "C:\\Users\\Sunny\\anaconda3\\lib\\site-packages\\numpy\\matrixlib\\defmatrix.py:145: VisibleDeprecationWarning: Creating an ndarray from ragged nested sequences (which is a list-or-tuple of lists-or-tuples-or ndarrays with different lengths or shapes) is deprecated. If you meant to do this, you must specify 'dtype=object' when creating the ndarray.\n",
      "  arr = N.array(data, dtype=dtype, copy=copy)\n"
     ]
    },
    {
     "data": {
      "text/plain": [
       "matrix([[list([5, 6, 8]), list([4, 6])]], dtype=object)"
      ]
     },
     "execution_count": 66,
     "metadata": {},
     "output_type": "execute_result"
    }
   ],
   "source": [
    "matrix2 = np.matrix([[5, 6, 8], [4, 6]])\n",
    "matrix2"
   ]
  },
  {
   "cell_type": "code",
   "execution_count": 68,
   "id": "80e8dbe1",
   "metadata": {},
   "outputs": [
    {
     "data": {
      "text/plain": [
       "numpy.matrix"
      ]
     },
     "execution_count": 68,
     "metadata": {},
     "output_type": "execute_result"
    }
   ],
   "source": [
    "type(matrix2)"
   ]
  },
  {
   "cell_type": "markdown",
   "id": "28d0cca7",
   "metadata": {},
   "source": [
    "# Measure of Central Tendency Using NumPy"
   ]
  },
  {
   "cell_type": "code",
   "execution_count": 70,
   "id": "2f350e36",
   "metadata": {},
   "outputs": [
    {
     "name": "stdout",
     "output_type": "stream",
     "text": [
      "[[ 1  0 78]\n",
      " [98 60 75]\n",
      " [79 25 48]]\n",
      "Minimum value of array is: 0\n",
      "Maximum value of array is: 98\n"
     ]
    }
   ],
   "source": [
    "import numpy as np\n",
    "\n",
    "arr = np.array([[1, 0, 78], [98, 60, 75], [79, 25, 48]])\n",
    "print(arr)\n",
    "\n",
    "# min function\n",
    "print(\"Minimum value of array is: \"+str(np.amin(arr)))\n",
    "\n",
    "# max function\n",
    "print(\"Maximum value of array is: \"+str(np.amax(arr)))\n"
   ]
  },
  {
   "cell_type": "code",
   "execution_count": 71,
   "id": "8e571c40",
   "metadata": {},
   "outputs": [
    {
     "data": {
      "text/plain": [
       "array([ 5,  8, 26, 45, 39, 26, 11, 30, 37, 70, 44])"
      ]
     },
     "execution_count": 71,
     "metadata": {},
     "output_type": "execute_result"
    }
   ],
   "source": [
    "arr1 = np.array([5,8,26,45,39,26,11,30,37,70,44])\n",
    "arr1"
   ]
  },
  {
   "cell_type": "code",
   "execution_count": 72,
   "id": "9251ff6f",
   "metadata": {},
   "outputs": [
    {
     "data": {
      "text/plain": [
       "31.0"
      ]
     },
     "execution_count": 72,
     "metadata": {},
     "output_type": "execute_result"
    }
   ],
   "source": [
    "np.mean(arr1)"
   ]
  },
  {
   "cell_type": "code",
   "execution_count": 74,
   "id": "c11e6bf8",
   "metadata": {},
   "outputs": [
    {
     "data": {
      "text/plain": [
       "30.0"
      ]
     },
     "execution_count": 74,
     "metadata": {},
     "output_type": "execute_result"
    }
   ],
   "source": [
    "np.median(arr1)"
   ]
  },
  {
   "cell_type": "code",
   "execution_count": 75,
   "id": "48f77c50",
   "metadata": {},
   "outputs": [
    {
     "data": {
      "text/plain": [
       "18.1959036349094"
      ]
     },
     "execution_count": 75,
     "metadata": {},
     "output_type": "execute_result"
    }
   ],
   "source": [
    "np.std(arr1)"
   ]
  },
  {
   "cell_type": "code",
   "execution_count": 76,
   "id": "08edf3af",
   "metadata": {},
   "outputs": [
    {
     "data": {
      "text/plain": [
       "331.09090909090907"
      ]
     },
     "execution_count": 76,
     "metadata": {},
     "output_type": "execute_result"
    }
   ],
   "source": [
    "np.var(arr1)"
   ]
  }
 ],
 "metadata": {
  "kernelspec": {
   "display_name": "Python 3 (ipykernel)",
   "language": "python",
   "name": "python3"
  },
  "language_info": {
   "codemirror_mode": {
    "name": "ipython",
    "version": 3
   },
   "file_extension": ".py",
   "mimetype": "text/x-python",
   "name": "python",
   "nbconvert_exporter": "python",
   "pygments_lexer": "ipython3",
   "version": "3.9.13"
  }
 },
 "nbformat": 4,
 "nbformat_minor": 5
}
